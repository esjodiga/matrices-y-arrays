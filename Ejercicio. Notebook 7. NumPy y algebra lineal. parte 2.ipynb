{
 "cells": [
  {
   "cell_type": "markdown",
   "id": "d49d1bb6",
   "metadata": {},
   "source": [
    "## Estuardo J. Díaz García (22008995)\n",
    "\n",
    "# Ejercicio. Notebook #7\n",
    "---\n",
    "**Ejercicio**: Investigar y ejemplificar diferencias entre np.array y np.matrix"
   ]
  },
  {
   "cell_type": "markdown",
   "id": "2797623f",
   "metadata": {},
   "source": [
    "## Arrays en NumPy"
   ]
  },
  {
   "cell_type": "markdown",
   "id": "ce3c6833",
   "metadata": {},
   "source": [
    "Un **array** es una estructura de datos dentro de NumPy de un mismo tipo, organizada en forma de tabla o en una cuadrícula de distintas dimensiones.\n",
    "\n",
    " - **a.ndim** : Devuelve el número de **dimensiones** del array a.\n",
    " - **a.shape** : Devuelve una **tupla con las dimensiones** del array a.\n",
    " - **a.size** : Devuelve el **número de elementos** del array a.\n",
    " - **a.dtype**: Devuelve el **tipo de datos** de los elementos del array a.\n",
    " \n",
    "Los arrays pueden tener de 1 a infinitas dimensiones: una dimensión (vectores), dos dimensiones (similares a las matrices), tres dimensiones (cubos), etc...\n",
    "\n",
    "<img src=https://aprendeconalf.es/docencia/python/manual/img/arrays.png>\n",
    "\n",
    "Fuente: https://aprendeconalf.es/"
   ]
  },
  {
   "cell_type": "code",
   "execution_count": 45,
   "id": "dc0088e1",
   "metadata": {},
   "outputs": [
    {
     "name": "stdout",
     "output_type": "stream",
     "text": [
      "Dimensión del array: 1\n",
      "Forma del array: (filas x columnas) (3,)\n",
      "Tamaño del array: 3\n",
      "Tipo de datos del array: int32\n",
      " \n",
      "[100 200 300]\n",
      "<class 'numpy.ndarray'>\n",
      " \n",
      "----------------\n",
      " \n",
      "Dimensión del array: 2\n",
      "Forma del array: (filas x columnas) (2, 3)\n",
      "Tamaño del array: 6\n",
      "Tipo de datos del array: int32\n",
      " \n",
      "[[100 200 300]\n",
      " [400 500 600]]\n",
      "<class 'numpy.ndarray'>\n",
      " \n",
      "----------------\n",
      " \n",
      "Dimensión del array: 3\n",
      "Forma del array: (filas x columnas) (2, 2, 3)\n",
      "Tamaño del array: 12\n",
      "Tipo de datos del array: int32\n",
      " \n",
      "[[[ 100  200  300]\n",
      "  [ 400  500  600]]\n",
      "\n",
      " [[ 700  800  900]\n",
      "  [1000 1100 1200]]]\n",
      "<class 'numpy.ndarray'>\n"
     ]
    }
   ],
   "source": [
    "import numpy as np\n",
    "#Veamos algunos ejemplos de arrays\n",
    "ejemplo1 = np.array([100,200,300]) #este es un array de 1 dimensión, conocido también como vector\n",
    "\n",
    "#Podemos ver las propiedades del array\n",
    "print(\"Dimensión del array:\",ejemplo1.ndim)\n",
    "print(\"Forma del array: (filas x columnas)\",ejemplo1.shape)\n",
    "print(\"Tamaño del array:\",ejemplo1.size)\n",
    "print(\"Tipo de datos del array:\",ejemplo1.dtype)\n",
    "print(\" \")\n",
    "print(ejemplo1)\n",
    "print(type(ejemplo1))\n",
    "print(\" \")\n",
    "print(\"----------------\")\n",
    "print(\" \")\n",
    "ejemplo2 = np.array([[100,200,300], [400, 500, 600]])\n",
    "#Podemos ver las propiedades del array\n",
    "print(\"Dimensión del array:\",ejemplo2.ndim)\n",
    "print(\"Forma del array: (filas x columnas)\",ejemplo2.shape)\n",
    "print(\"Tamaño del array:\",ejemplo2.size)\n",
    "print(\"Tipo de datos del array:\",ejemplo2.dtype)\n",
    "print(\" \")\n",
    "print(ejemplo2)\n",
    "print(type(ejemplo2))\n",
    "print(\" \")\n",
    "print(\"----------------\")\n",
    "print(\" \")\n",
    "ejemplo3 = np.array([[[100,200,300], [400, 500, 600]],[[700,800,900],[1000,1100,1200]]])\n",
    "#Podemos ver las propiedades del array\n",
    "print(\"Dimensión del array:\",ejemplo3.ndim)\n",
    "print(\"Forma del array: (filas x columnas)\",ejemplo3.shape)\n",
    "print(\"Tamaño del array:\",ejemplo3.size)\n",
    "print(\"Tipo de datos del array:\",ejemplo3.dtype)\n",
    "print(\" \")\n",
    "print(ejemplo3)\n",
    "print(type(ejemplo3))\n",
    "\n",
    "\n"
   ]
  },
  {
   "cell_type": "markdown",
   "id": "2d97e179",
   "metadata": {},
   "source": [
    "## Matrices en NumPy"
   ]
  },
  {
   "cell_type": "markdown",
   "id": "85dd2e14",
   "metadata": {},
   "source": [
    "Las matrices son objetos especiales de arrays con 2D. Los datos en una matriz pueden ser números, cadenas, expresiones, símbolos, etc. La matriz es una de las estructuras de datos importantes que se pueden usar en cálculos matemáticos y científicos.\n",
    "\n",
    "Al utilizar la sentencia np.matrix este objeto adquiere ciertas propiedades que lo diferencian de un array."
   ]
  },
  {
   "cell_type": "code",
   "execution_count": 43,
   "id": "528e27ef",
   "metadata": {},
   "outputs": [
    {
     "name": "stdout",
     "output_type": "stream",
     "text": [
      "[[1000    7]\n",
      " [  13   45]]\n"
     ]
    },
    {
     "data": {
      "text/plain": [
       "numpy.matrix"
      ]
     },
     "execution_count": 43,
     "metadata": {},
     "output_type": "execute_result"
    }
   ],
   "source": [
    "#Vamos un ejemplo de la sentencia np.matrix\n",
    "q = np.matrix([[1000, 7], [13, 45]])\n",
    "print(q)\n",
    "type(q)"
   ]
  },
  {
   "cell_type": "code",
   "execution_count": 48,
   "id": "f2ff0c59",
   "metadata": {},
   "outputs": [
    {
     "data": {
      "text/plain": [
       "matrix([[100, 200, 300],\n",
       "        [400, 500, 600]])"
      ]
     },
     "execution_count": 48,
     "metadata": {},
     "output_type": "execute_result"
    }
   ],
   "source": [
    "#También podemos comvertir un array en una matriz usando np.asmatrix\n",
    "y = np.asmatrix(ejemplo2) #de los ejemplos del inciso anterior\n",
    "y\n"
   ]
  },
  {
   "cell_type": "code",
   "execution_count": 50,
   "id": "0af4e296",
   "metadata": {},
   "outputs": [
    {
     "data": {
      "text/plain": [
       "array([[100, 200, 300],\n",
       "       [400, 500, 600]])"
      ]
     },
     "execution_count": 50,
     "metadata": {},
     "output_type": "execute_result"
    }
   ],
   "source": [
    "#o una matriz la volvemos array con la sentencia np.asarray \n",
    "g = np.asarray(y)\n",
    "g"
   ]
  },
  {
   "cell_type": "markdown",
   "id": "f140740e",
   "metadata": {},
   "source": [
    "## Principales diferencias:"
   ]
  },
  {
   "cell_type": "markdown",
   "id": "728ccb5a",
   "metadata": {},
   "source": [
    "Las matrices numpy son estrictamente 2D, mientras que las arrays (ndarrays) pueden tener múltiples dimensiones. Los objetos *matrix* son una subclase de arrays, por lo que heredan todos los atributos y métodos de ndarrays.\n",
    "\n",
    "La principal ventaja de las matrices numpy es que proporcionan una notación conveniente para la multiplicación de matrices.\n",
    "\n",
    "A las matrices se les puede aplicar ciertas operacione que a los arrays no, como conjugadas transpuestas (.H) e inversas (.I)\n",
    "Así también el operador ** también se comporta diferente.\n",
    "\n",
    "En conclusión, visualmente las matrices y los arrays en python son iguales, sin embargo, sus propiedades y operaciones que se pueden aplicar en ellas varían.\n",
    "\n"
   ]
  },
  {
   "cell_type": "code",
   "execution_count": null,
   "id": "2e9012e5",
   "metadata": {},
   "outputs": [],
   "source": []
  }
 ],
 "metadata": {
  "kernelspec": {
   "display_name": "Python 3 (ipykernel)",
   "language": "python",
   "name": "python3"
  },
  "language_info": {
   "codemirror_mode": {
    "name": "ipython",
    "version": 3
   },
   "file_extension": ".py",
   "mimetype": "text/x-python",
   "name": "python",
   "nbconvert_exporter": "python",
   "pygments_lexer": "ipython3",
   "version": "3.9.7"
  }
 },
 "nbformat": 4,
 "nbformat_minor": 5
}
